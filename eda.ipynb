{
 "cells": [
  {
   "cell_type": "code",
   "execution_count": 2,
   "metadata": {},
   "outputs": [
    {
     "data": {
      "text/html": [
       "<div>\n",
       "<style scoped>\n",
       "    .dataframe tbody tr th:only-of-type {\n",
       "        vertical-align: middle;\n",
       "    }\n",
       "\n",
       "    .dataframe tbody tr th {\n",
       "        vertical-align: top;\n",
       "    }\n",
       "\n",
       "    .dataframe thead th {\n",
       "        text-align: right;\n",
       "    }\n",
       "</style>\n",
       "<table border=\"1\" class=\"dataframe\">\n",
       "  <thead>\n",
       "    <tr style=\"text-align: right;\">\n",
       "      <th></th>\n",
       "      <th>Name</th>\n",
       "      <th>Marks</th>\n",
       "      <th>Gender</th>\n",
       "      <th>Email</th>\n",
       "    </tr>\n",
       "  </thead>\n",
       "  <tbody>\n",
       "    <tr>\n",
       "      <th>0</th>\n",
       "      <td>Priyang</td>\n",
       "      <td>98.0</td>\n",
       "      <td>Male</td>\n",
       "      <td>priyang@gmail.com</td>\n",
       "    </tr>\n",
       "    <tr>\n",
       "      <th>1</th>\n",
       "      <td>Aadhya</td>\n",
       "      <td>NaN</td>\n",
       "      <td>Female</td>\n",
       "      <td>aadhya@gmail.com</td>\n",
       "    </tr>\n",
       "    <tr>\n",
       "      <th>2</th>\n",
       "      <td>Krisha</td>\n",
       "      <td>99.0</td>\n",
       "      <td>Female</td>\n",
       "      <td>krisha@gmail.com</td>\n",
       "    </tr>\n",
       "    <tr>\n",
       "      <th>3</th>\n",
       "      <td>Vedant</td>\n",
       "      <td>87.0</td>\n",
       "      <td>Male</td>\n",
       "      <td>vedant@yahoo.com</td>\n",
       "    </tr>\n",
       "    <tr>\n",
       "      <th>4</th>\n",
       "      <td>Parshv</td>\n",
       "      <td>NaN</td>\n",
       "      <td>Male</td>\n",
       "      <td>parshv@hotmail.com</td>\n",
       "    </tr>\n",
       "    <tr>\n",
       "      <th>5</th>\n",
       "      <td>Mittal</td>\n",
       "      <td>83.0</td>\n",
       "      <td>Female</td>\n",
       "      <td>mittal@yahoo.com</td>\n",
       "    </tr>\n",
       "    <tr>\n",
       "      <th>6</th>\n",
       "      <td>Archana</td>\n",
       "      <td>99.0</td>\n",
       "      <td>Female</td>\n",
       "      <td>archana@yahoo.com</td>\n",
       "    </tr>\n",
       "  </tbody>\n",
       "</table>\n",
       "</div>"
      ],
      "text/plain": [
       "      Name  Marks  Gender               Email\n",
       "0  Priyang   98.0    Male   priyang@gmail.com\n",
       "1   Aadhya    NaN  Female    aadhya@gmail.com\n",
       "2   Krisha   99.0  Female    krisha@gmail.com\n",
       "3   Vedant   87.0    Male    vedant@yahoo.com\n",
       "4   Parshv    NaN    Male  parshv@hotmail.com\n",
       "5   Mittal   83.0  Female    mittal@yahoo.com\n",
       "6  Archana   99.0  Female   archana@yahoo.com"
      ]
     },
     "execution_count": 2,
     "metadata": {},
     "output_type": "execute_result"
    }
   ],
   "source": [
    "import pandas as pd\n",
    "import numpy as np\n",
    "\n",
    "dict1 ={'Name':['Priyang','Aadhya','Krisha','Vedant','Parshv',\n",
    "                'Mittal','Archana'],\n",
    "                'Marks':[98,np.nan,99,87,np.nan,83,99],\n",
    "                'Gender':['Male','Female','Female','Male','Male',\n",
    "                         'Female','Female'],\n",
    "                'Email':['priyang@gmail.com','aadhya@gmail.com',\n",
    "                        'krisha@gmail.com','vedant@yahoo.com','parshv@hotmail.com',\n",
    "                         'mittal@yahoo.com','archana@yahoo.com']\n",
    "               }\n",
    "df1=pd.DataFrame(dict1)\n",
    "df1"
   ]
  },
  {
   "cell_type": "code",
   "execution_count": 3,
   "metadata": {},
   "outputs": [
    {
     "data": {
      "text/html": [
       "<div>\n",
       "<style scoped>\n",
       "    .dataframe tbody tr th:only-of-type {\n",
       "        vertical-align: middle;\n",
       "    }\n",
       "\n",
       "    .dataframe tbody tr th {\n",
       "        vertical-align: top;\n",
       "    }\n",
       "\n",
       "    .dataframe thead th {\n",
       "        text-align: right;\n",
       "    }\n",
       "</style>\n",
       "<table border=\"1\" class=\"dataframe\">\n",
       "  <thead>\n",
       "    <tr style=\"text-align: right;\">\n",
       "      <th></th>\n",
       "      <th>Name</th>\n",
       "      <th>Marks</th>\n",
       "      <th>Gender</th>\n",
       "      <th>Email</th>\n",
       "    </tr>\n",
       "  </thead>\n",
       "  <tbody>\n",
       "    <tr>\n",
       "      <th>0</th>\n",
       "      <td>Priyang</td>\n",
       "      <td>98.0</td>\n",
       "      <td>Male</td>\n",
       "      <td>priyang@gmail.com</td>\n",
       "    </tr>\n",
       "    <tr>\n",
       "      <th>1</th>\n",
       "      <td>Aadhya</td>\n",
       "      <td>NaN</td>\n",
       "      <td>Female</td>\n",
       "      <td>aadhya@gmail.com</td>\n",
       "    </tr>\n",
       "    <tr>\n",
       "      <th>2</th>\n",
       "      <td>Krisha</td>\n",
       "      <td>99.0</td>\n",
       "      <td>Female</td>\n",
       "      <td>krisha@gmail.com</td>\n",
       "    </tr>\n",
       "    <tr>\n",
       "      <th>3</th>\n",
       "      <td>Vedant</td>\n",
       "      <td>87.0</td>\n",
       "      <td>Male</td>\n",
       "      <td>vedant@yahoo.com</td>\n",
       "    </tr>\n",
       "    <tr>\n",
       "      <th>4</th>\n",
       "      <td>Parshv</td>\n",
       "      <td>NaN</td>\n",
       "      <td>Male</td>\n",
       "      <td>parshv@hotmail.com</td>\n",
       "    </tr>\n",
       "  </tbody>\n",
       "</table>\n",
       "</div>"
      ],
      "text/plain": [
       "      Name  Marks  Gender               Email\n",
       "0  Priyang   98.0    Male   priyang@gmail.com\n",
       "1   Aadhya    NaN  Female    aadhya@gmail.com\n",
       "2   Krisha   99.0  Female    krisha@gmail.com\n",
       "3   Vedant   87.0    Male    vedant@yahoo.com\n",
       "4   Parshv    NaN    Male  parshv@hotmail.com"
      ]
     },
     "execution_count": 3,
     "metadata": {},
     "output_type": "execute_result"
    }
   ],
   "source": [
    "# All rows except last 2 rows\n",
    "df1.head(-2)"
   ]
  },
  {
   "cell_type": "code",
   "execution_count": 4,
   "metadata": {},
   "outputs": [
    {
     "data": {
      "text/html": [
       "<div>\n",
       "<style scoped>\n",
       "    .dataframe tbody tr th:only-of-type {\n",
       "        vertical-align: middle;\n",
       "    }\n",
       "\n",
       "    .dataframe tbody tr th {\n",
       "        vertical-align: top;\n",
       "    }\n",
       "\n",
       "    .dataframe thead th {\n",
       "        text-align: right;\n",
       "    }\n",
       "</style>\n",
       "<table border=\"1\" class=\"dataframe\">\n",
       "  <thead>\n",
       "    <tr style=\"text-align: right;\">\n",
       "      <th></th>\n",
       "      <th>Name</th>\n",
       "      <th>Marks</th>\n",
       "      <th>Gender</th>\n",
       "      <th>Email</th>\n",
       "    </tr>\n",
       "  </thead>\n",
       "  <tbody>\n",
       "    <tr>\n",
       "      <th>3</th>\n",
       "      <td>Vedant</td>\n",
       "      <td>87.0</td>\n",
       "      <td>Male</td>\n",
       "      <td>vedant@yahoo.com</td>\n",
       "    </tr>\n",
       "    <tr>\n",
       "      <th>4</th>\n",
       "      <td>Parshv</td>\n",
       "      <td>NaN</td>\n",
       "      <td>Male</td>\n",
       "      <td>parshv@hotmail.com</td>\n",
       "    </tr>\n",
       "    <tr>\n",
       "      <th>5</th>\n",
       "      <td>Mittal</td>\n",
       "      <td>83.0</td>\n",
       "      <td>Female</td>\n",
       "      <td>mittal@yahoo.com</td>\n",
       "    </tr>\n",
       "    <tr>\n",
       "      <th>6</th>\n",
       "      <td>Archana</td>\n",
       "      <td>99.0</td>\n",
       "      <td>Female</td>\n",
       "      <td>archana@yahoo.com</td>\n",
       "    </tr>\n",
       "  </tbody>\n",
       "</table>\n",
       "</div>"
      ],
      "text/plain": [
       "      Name  Marks  Gender               Email\n",
       "3   Vedant   87.0    Male    vedant@yahoo.com\n",
       "4   Parshv    NaN    Male  parshv@hotmail.com\n",
       "5   Mittal   83.0  Female    mittal@yahoo.com\n",
       "6  Archana   99.0  Female   archana@yahoo.com"
      ]
     },
     "execution_count": 4,
     "metadata": {},
     "output_type": "execute_result"
    }
   ],
   "source": [
    "# All rows except first 3 rows\n",
    "df1.tail(-3)"
   ]
  },
  {
   "cell_type": "code",
   "execution_count": 6,
   "metadata": {},
   "outputs": [
    {
     "name": "stdout",
     "output_type": "stream",
     "text": [
      "Rows: 7, Columns: 4\n"
     ]
    }
   ],
   "source": [
    "# Find the shape of our dataset\n",
    "print(f\"Rows: {df1.shape[0]}, Columns: {df1.shape[1]}\")"
   ]
  },
  {
   "cell_type": "code",
   "execution_count": 7,
   "metadata": {},
   "outputs": [
    {
     "data": {
      "text/plain": [
       "Name      0\n",
       "Marks     2\n",
       "Gender    0\n",
       "Email     0\n",
       "dtype: int64"
      ]
     },
     "execution_count": 7,
     "metadata": {},
     "output_type": "execute_result"
    }
   ],
   "source": [
    "# check null values and drop them\n",
    "df1.isnull().sum()\n",
    "# df1.dropna()"
   ]
  },
  {
   "cell_type": "code",
   "execution_count": 8,
   "metadata": {},
   "outputs": [
    {
     "data": {
      "text/plain": [
       "array([98., nan, 99., 87., 83.])"
      ]
     },
     "execution_count": 8,
     "metadata": {},
     "output_type": "execute_result"
    }
   ],
   "source": [
    "# Find unique value from the gender column\n",
    "df1['Marks'].unique()"
   ]
  },
  {
   "cell_type": "code",
   "execution_count": 9,
   "metadata": {},
   "outputs": [
    {
     "data": {
      "text/plain": [
       "4"
      ]
     },
     "execution_count": 9,
     "metadata": {},
     "output_type": "execute_result"
    }
   ],
   "source": [
    "# Find number of unique value from the gender column\n",
    "df1['Marks'].nunique()"
   ]
  },
  {
   "cell_type": "code",
   "execution_count": 10,
   "metadata": {},
   "outputs": [
    {
     "data": {
      "text/plain": [
       "Marks\n",
       "99.0    2\n",
       "98.0    1\n",
       "87.0    1\n",
       "83.0    1\n",
       "Name: count, dtype: int64"
      ]
     },
     "execution_count": 10,
     "metadata": {},
     "output_type": "execute_result"
    }
   ],
   "source": [
    "# Display count of unique value from the gender column\n",
    "df1['Marks'].value_counts()"
   ]
  },
  {
   "cell_type": "code",
   "execution_count": null,
   "metadata": {},
   "outputs": [],
   "source": [
    "# Handling missing values\n",
    "df1['Marks'].fillna(df1['Marks'].mean(),inplace=True)"
   ]
  },
  {
   "cell_type": "code",
   "execution_count": 15,
   "metadata": {},
   "outputs": [
    {
     "data": {
      "text/html": [
       "<div>\n",
       "<style scoped>\n",
       "    .dataframe tbody tr th:only-of-type {\n",
       "        vertical-align: middle;\n",
       "    }\n",
       "\n",
       "    .dataframe tbody tr th {\n",
       "        vertical-align: top;\n",
       "    }\n",
       "\n",
       "    .dataframe thead th {\n",
       "        text-align: right;\n",
       "    }\n",
       "</style>\n",
       "<table border=\"1\" class=\"dataframe\">\n",
       "  <thead>\n",
       "    <tr style=\"text-align: right;\">\n",
       "      <th></th>\n",
       "      <th>Marks</th>\n",
       "    </tr>\n",
       "  </thead>\n",
       "  <tbody>\n",
       "    <tr>\n",
       "      <th>3</th>\n",
       "      <td>87.0</td>\n",
       "    </tr>\n",
       "    <tr>\n",
       "      <th>5</th>\n",
       "      <td>83.0</td>\n",
       "    </tr>\n",
       "  </tbody>\n",
       "</table>\n",
       "</div>"
      ],
      "text/plain": [
       "   Marks\n",
       "3   87.0\n",
       "5   83.0"
      ]
     },
     "execution_count": 15,
     "metadata": {},
     "output_type": "execute_result"
    }
   ],
   "source": [
    "# Marks between 80 to 90\n",
    "df1[df1['Marks'].between(80,90)][['Marks']]"
   ]
  },
  {
   "cell_type": "code",
   "execution_count": 16,
   "metadata": {},
   "outputs": [
    {
     "data": {
      "text/plain": [
       "5    Mittal\n",
       "Name: Name, dtype: object"
      ]
     },
     "execution_count": 16,
     "metadata": {},
     "output_type": "execute_result"
    }
   ],
   "source": [
    "# Name of the students with lowest marks\n",
    "df1[df1['Marks']==df1['Marks'].min()]['Name']"
   ]
  },
  {
   "cell_type": "code",
   "execution_count": 17,
   "metadata": {},
   "outputs": [
    {
     "data": {
      "text/html": [
       "<div>\n",
       "<style scoped>\n",
       "    .dataframe tbody tr th:only-of-type {\n",
       "        vertical-align: middle;\n",
       "    }\n",
       "\n",
       "    .dataframe tbody tr th {\n",
       "        vertical-align: top;\n",
       "    }\n",
       "\n",
       "    .dataframe thead th {\n",
       "        text-align: right;\n",
       "    }\n",
       "</style>\n",
       "<table border=\"1\" class=\"dataframe\">\n",
       "  <thead>\n",
       "    <tr style=\"text-align: right;\">\n",
       "      <th></th>\n",
       "      <th>Name</th>\n",
       "      <th>Marks</th>\n",
       "      <th>Gender</th>\n",
       "      <th>Email</th>\n",
       "    </tr>\n",
       "  </thead>\n",
       "  <tbody>\n",
       "    <tr>\n",
       "      <th>2</th>\n",
       "      <td>Krisha</td>\n",
       "      <td>99.0</td>\n",
       "      <td>Female</td>\n",
       "      <td>krisha@gmail.com</td>\n",
       "    </tr>\n",
       "    <tr>\n",
       "      <th>6</th>\n",
       "      <td>Archana</td>\n",
       "      <td>99.0</td>\n",
       "      <td>Female</td>\n",
       "      <td>archana@yahoo.com</td>\n",
       "    </tr>\n",
       "    <tr>\n",
       "      <th>0</th>\n",
       "      <td>Priyang</td>\n",
       "      <td>98.0</td>\n",
       "      <td>Male</td>\n",
       "      <td>priyang@gmail.com</td>\n",
       "    </tr>\n",
       "    <tr>\n",
       "      <th>1</th>\n",
       "      <td>Aadhya</td>\n",
       "      <td>93.2</td>\n",
       "      <td>Female</td>\n",
       "      <td>aadhya@gmail.com</td>\n",
       "    </tr>\n",
       "    <tr>\n",
       "      <th>4</th>\n",
       "      <td>Parshv</td>\n",
       "      <td>93.2</td>\n",
       "      <td>Male</td>\n",
       "      <td>parshv@hotmail.com</td>\n",
       "    </tr>\n",
       "  </tbody>\n",
       "</table>\n",
       "</div>"
      ],
      "text/plain": [
       "      Name  Marks  Gender               Email\n",
       "2   Krisha   99.0  Female    krisha@gmail.com\n",
       "6  Archana   99.0  Female   archana@yahoo.com\n",
       "0  Priyang   98.0    Male   priyang@gmail.com\n",
       "1   Aadhya   93.2  Female    aadhya@gmail.com\n",
       "4   Parshv   93.2    Male  parshv@hotmail.com"
      ]
     },
     "execution_count": 17,
     "metadata": {},
     "output_type": "execute_result"
    }
   ],
   "source": [
    "# Top 5 students with highest marks\n",
    "df1.nlargest(5,'Marks')"
   ]
  },
  {
   "cell_type": "code",
   "execution_count": 29,
   "metadata": {},
   "outputs": [
    {
     "data": {
      "text/html": [
       "<div>\n",
       "<style scoped>\n",
       "    .dataframe tbody tr th:only-of-type {\n",
       "        vertical-align: middle;\n",
       "    }\n",
       "\n",
       "    .dataframe tbody tr th {\n",
       "        vertical-align: top;\n",
       "    }\n",
       "\n",
       "    .dataframe thead th {\n",
       "        text-align: right;\n",
       "    }\n",
       "</style>\n",
       "<table border=\"1\" class=\"dataframe\">\n",
       "  <thead>\n",
       "    <tr style=\"text-align: right;\">\n",
       "      <th></th>\n",
       "      <th>Gender</th>\n",
       "      <th>Male_Female</th>\n",
       "    </tr>\n",
       "  </thead>\n",
       "  <tbody>\n",
       "    <tr>\n",
       "      <th>0</th>\n",
       "      <td>Male</td>\n",
       "      <td>0</td>\n",
       "    </tr>\n",
       "    <tr>\n",
       "      <th>1</th>\n",
       "      <td>Female</td>\n",
       "      <td>1</td>\n",
       "    </tr>\n",
       "    <tr>\n",
       "      <th>2</th>\n",
       "      <td>Female</td>\n",
       "      <td>1</td>\n",
       "    </tr>\n",
       "    <tr>\n",
       "      <th>3</th>\n",
       "      <td>Male</td>\n",
       "      <td>0</td>\n",
       "    </tr>\n",
       "    <tr>\n",
       "      <th>4</th>\n",
       "      <td>Male</td>\n",
       "      <td>0</td>\n",
       "    </tr>\n",
       "    <tr>\n",
       "      <th>5</th>\n",
       "      <td>Female</td>\n",
       "      <td>1</td>\n",
       "    </tr>\n",
       "    <tr>\n",
       "      <th>6</th>\n",
       "      <td>Female</td>\n",
       "      <td>1</td>\n",
       "    </tr>\n",
       "  </tbody>\n",
       "</table>\n",
       "</div>"
      ],
      "text/plain": [
       "   Gender  Male_Female\n",
       "0    Male            0\n",
       "1  Female            1\n",
       "2  Female            1\n",
       "3    Male            0\n",
       "4    Male            0\n",
       "5  Female            1\n",
       "6  Female            1"
      ]
     },
     "execution_count": 29,
     "metadata": {},
     "output_type": "execute_result"
    }
   ],
   "source": [
    "# Mapping male to 0 and female to 1\n",
    "df1['Male_Female'] = df1['Gender'].map({'Male': 0, 'Female': 1})\n",
    "df1[['Gender', 'Male_Female']]"
   ]
  },
  {
   "cell_type": "code",
   "execution_count": 30,
   "metadata": {},
   "outputs": [
    {
     "data": {
      "text/html": [
       "<div>\n",
       "<style scoped>\n",
       "    .dataframe tbody tr th:only-of-type {\n",
       "        vertical-align: middle;\n",
       "    }\n",
       "\n",
       "    .dataframe tbody tr th {\n",
       "        vertical-align: top;\n",
       "    }\n",
       "\n",
       "    .dataframe thead th {\n",
       "        text-align: right;\n",
       "    }\n",
       "</style>\n",
       "<table border=\"1\" class=\"dataframe\">\n",
       "  <thead>\n",
       "    <tr style=\"text-align: right;\">\n",
       "      <th></th>\n",
       "      <th>Name</th>\n",
       "      <th>Marks</th>\n",
       "      <th>Gender</th>\n",
       "      <th>Email</th>\n",
       "      <th>Male_Female</th>\n",
       "    </tr>\n",
       "  </thead>\n",
       "  <tbody>\n",
       "    <tr>\n",
       "      <th>5</th>\n",
       "      <td>Mittal</td>\n",
       "      <td>83.0</td>\n",
       "      <td>Female</td>\n",
       "      <td>mittal@yahoo.com</td>\n",
       "      <td>1</td>\n",
       "    </tr>\n",
       "    <tr>\n",
       "      <th>3</th>\n",
       "      <td>Vedant</td>\n",
       "      <td>87.0</td>\n",
       "      <td>Male</td>\n",
       "      <td>vedant@yahoo.com</td>\n",
       "      <td>0</td>\n",
       "    </tr>\n",
       "    <tr>\n",
       "      <th>0</th>\n",
       "      <td>Priyang</td>\n",
       "      <td>98.0</td>\n",
       "      <td>Male</td>\n",
       "      <td>priyang@gmail.com</td>\n",
       "      <td>0</td>\n",
       "    </tr>\n",
       "    <tr>\n",
       "      <th>2</th>\n",
       "      <td>Krisha</td>\n",
       "      <td>99.0</td>\n",
       "      <td>Female</td>\n",
       "      <td>krisha@gmail.com</td>\n",
       "      <td>1</td>\n",
       "    </tr>\n",
       "    <tr>\n",
       "      <th>6</th>\n",
       "      <td>Archana</td>\n",
       "      <td>99.0</td>\n",
       "      <td>Female</td>\n",
       "      <td>archana@yahoo.com</td>\n",
       "      <td>1</td>\n",
       "    </tr>\n",
       "    <tr>\n",
       "      <th>1</th>\n",
       "      <td>Aadhya</td>\n",
       "      <td>NaN</td>\n",
       "      <td>Female</td>\n",
       "      <td>aadhya@gmail.com</td>\n",
       "      <td>1</td>\n",
       "    </tr>\n",
       "    <tr>\n",
       "      <th>4</th>\n",
       "      <td>Parshv</td>\n",
       "      <td>NaN</td>\n",
       "      <td>Male</td>\n",
       "      <td>parshv@hotmail.com</td>\n",
       "      <td>0</td>\n",
       "    </tr>\n",
       "  </tbody>\n",
       "</table>\n",
       "</div>"
      ],
      "text/plain": [
       "      Name  Marks  Gender               Email  Male_Female\n",
       "5   Mittal   83.0  Female    mittal@yahoo.com            1\n",
       "3   Vedant   87.0    Male    vedant@yahoo.com            0\n",
       "0  Priyang   98.0    Male   priyang@gmail.com            0\n",
       "2   Krisha   99.0  Female    krisha@gmail.com            1\n",
       "6  Archana   99.0  Female   archana@yahoo.com            1\n",
       "1   Aadhya    NaN  Female    aadhya@gmail.com            1\n",
       "4   Parshv    NaN    Male  parshv@hotmail.com            0"
      ]
     },
     "execution_count": 30,
     "metadata": {},
     "output_type": "execute_result"
    }
   ],
   "source": [
    "# sort the dataframe by marks\n",
    "df1.sort_values('Marks')"
   ]
  },
  {
   "cell_type": "code",
   "execution_count": 32,
   "metadata": {},
   "outputs": [
    {
     "data": {
      "text/html": [
       "<div>\n",
       "<style scoped>\n",
       "    .dataframe tbody tr th:only-of-type {\n",
       "        vertical-align: middle;\n",
       "    }\n",
       "\n",
       "    .dataframe tbody tr th {\n",
       "        vertical-align: top;\n",
       "    }\n",
       "\n",
       "    .dataframe thead th {\n",
       "        text-align: right;\n",
       "    }\n",
       "</style>\n",
       "<table border=\"1\" class=\"dataframe\">\n",
       "  <thead>\n",
       "    <tr style=\"text-align: right;\">\n",
       "      <th></th>\n",
       "      <th>Name</th>\n",
       "      <th>Marks</th>\n",
       "    </tr>\n",
       "  </thead>\n",
       "  <tbody>\n",
       "    <tr>\n",
       "      <th>1</th>\n",
       "      <td>Aadhya</td>\n",
       "      <td>NaN</td>\n",
       "    </tr>\n",
       "    <tr>\n",
       "      <th>2</th>\n",
       "      <td>Krisha</td>\n",
       "      <td>99.0</td>\n",
       "    </tr>\n",
       "    <tr>\n",
       "      <th>5</th>\n",
       "      <td>Mittal</td>\n",
       "      <td>83.0</td>\n",
       "    </tr>\n",
       "    <tr>\n",
       "      <th>6</th>\n",
       "      <td>Archana</td>\n",
       "      <td>99.0</td>\n",
       "    </tr>\n",
       "  </tbody>\n",
       "</table>\n",
       "</div>"
      ],
      "text/plain": [
       "      Name  Marks\n",
       "1   Aadhya    NaN\n",
       "2   Krisha   99.0\n",
       "5   Mittal   83.0\n",
       "6  Archana   99.0"
      ]
     },
     "execution_count": 32,
     "metadata": {},
     "output_type": "execute_result"
    }
   ],
   "source": [
    "# Display Name and Marks of the female students\n",
    "df1[df1['Gender'] == 'Female'][['Name', 'Marks']]"
   ]
  },
  {
   "cell_type": "code",
   "execution_count": 33,
   "metadata": {},
   "outputs": [],
   "source": [
    "# Rename the marks column to score\n",
    "df1.rename(columns={'Marks': 'Score'}, inplace=True)"
   ]
  },
  {
   "cell_type": "code",
   "execution_count": null,
   "metadata": {},
   "outputs": [
    {
     "data": {
      "text/html": [
       "<div>\n",
       "<style scoped>\n",
       "    .dataframe tbody tr th:only-of-type {\n",
       "        vertical-align: middle;\n",
       "    }\n",
       "\n",
       "    .dataframe tbody tr th {\n",
       "        vertical-align: top;\n",
       "    }\n",
       "\n",
       "    .dataframe thead th {\n",
       "        text-align: right;\n",
       "    }\n",
       "</style>\n",
       "<table border=\"1\" class=\"dataframe\">\n",
       "  <thead>\n",
       "    <tr style=\"text-align: right;\">\n",
       "      <th></th>\n",
       "      <th>Name</th>\n",
       "      <th>Score</th>\n",
       "      <th>Gender</th>\n",
       "      <th>Email</th>\n",
       "      <th>Male_Female</th>\n",
       "    </tr>\n",
       "  </thead>\n",
       "  <tbody>\n",
       "    <tr>\n",
       "      <th>0</th>\n",
       "      <td>Priyang</td>\n",
       "      <td>98.0</td>\n",
       "      <td>Male</td>\n",
       "      <td>priyang@gmail.com</td>\n",
       "      <td>0</td>\n",
       "    </tr>\n",
       "    <tr>\n",
       "      <th>1</th>\n",
       "      <td>Aadhya</td>\n",
       "      <td>NaN</td>\n",
       "      <td>Female</td>\n",
       "      <td>aadhya@gmail.com</td>\n",
       "      <td>1</td>\n",
       "    </tr>\n",
       "    <tr>\n",
       "      <th>2</th>\n",
       "      <td>Krisha</td>\n",
       "      <td>99.0</td>\n",
       "      <td>Female</td>\n",
       "      <td>krisha@gmail.com</td>\n",
       "      <td>1</td>\n",
       "    </tr>\n",
       "    <tr>\n",
       "      <th>3</th>\n",
       "      <td>Vedant</td>\n",
       "      <td>87.0</td>\n",
       "      <td>Male</td>\n",
       "      <td>vedant@yahoo.com</td>\n",
       "      <td>0</td>\n",
       "    </tr>\n",
       "    <tr>\n",
       "      <th>4</th>\n",
       "      <td>Parshv</td>\n",
       "      <td>NaN</td>\n",
       "      <td>Male</td>\n",
       "      <td>parshv@hotmail.com</td>\n",
       "      <td>0</td>\n",
       "    </tr>\n",
       "    <tr>\n",
       "      <th>5</th>\n",
       "      <td>Mittal</td>\n",
       "      <td>83.0</td>\n",
       "      <td>Female</td>\n",
       "      <td>mittal@yahoo.com</td>\n",
       "      <td>1</td>\n",
       "    </tr>\n",
       "    <tr>\n",
       "      <th>6</th>\n",
       "      <td>Archana</td>\n",
       "      <td>99.0</td>\n",
       "      <td>Female</td>\n",
       "      <td>archana@yahoo.com</td>\n",
       "      <td>1</td>\n",
       "    </tr>\n",
       "  </tbody>\n",
       "</table>\n",
       "</div>"
      ],
      "text/plain": [
       "      Name  Score  Gender               Email  Male_Female\n",
       "0  Priyang   98.0    Male   priyang@gmail.com            0\n",
       "1   Aadhya    NaN  Female    aadhya@gmail.com            1\n",
       "2   Krisha   99.0  Female    krisha@gmail.com            1\n",
       "3   Vedant   87.0    Male    vedant@yahoo.com            0\n",
       "4   Parshv    NaN    Male  parshv@hotmail.com            0\n",
       "5   Mittal   83.0  Female    mittal@yahoo.com            1\n",
       "6  Archana   99.0  Female   archana@yahoo.com            1"
      ]
     },
     "execution_count": 34,
     "metadata": {},
     "output_type": "execute_result"
    }
   ],
   "source": []
  },
  {
   "cell_type": "code",
   "execution_count": null,
   "metadata": {},
   "outputs": [],
   "source": []
  }
 ],
 "metadata": {
  "kernelspec": {
   "display_name": ".venv",
   "language": "python",
   "name": "python3"
  },
  "language_info": {
   "codemirror_mode": {
    "name": "ipython",
    "version": 3
   },
   "file_extension": ".py",
   "mimetype": "text/x-python",
   "name": "python",
   "nbconvert_exporter": "python",
   "pygments_lexer": "ipython3",
   "version": "3.12.6"
  }
 },
 "nbformat": 4,
 "nbformat_minor": 2
}
