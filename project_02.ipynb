{
 "cells": [
  {
   "cell_type": "code",
   "execution_count": 1,
   "metadata": {},
   "outputs": [
    {
     "name": "stderr",
     "output_type": "stream",
     "text": [
      "C:\\Users\\PMLS\\AppData\\Local\\Temp\\ipykernel_20768\\2476971426.py:2: DtypeWarning: Columns (3,4,5,6,12) have mixed types. Specify dtype option on import or set low_memory=False.\n",
      "  data = pd.read_csv('Salaries.csv')\n"
     ]
    }
   ],
   "source": [
    "import pandas as pd\n",
    "data = pd.read_csv('Salaries.csv')"
   ]
  },
  {
   "cell_type": "markdown",
   "metadata": {},
   "source": [
    "### Shape of our data (rows, columns)"
   ]
  },
  {
   "cell_type": "code",
   "execution_count": 5,
   "metadata": {},
   "outputs": [
    {
     "name": "stdout",
     "output_type": "stream",
     "text": [
      "Rows: 148654, Columns: 13\n"
     ]
    }
   ],
   "source": [
    "print(f\"Rows: {data.shape[0]}, Columns: {data.shape[1]}\")"
   ]
  },
  {
   "cell_type": "markdown",
   "metadata": {},
   "source": [
    "### Check null values in our dataset"
   ]
  },
  {
   "cell_type": "code",
   "execution_count": 13,
   "metadata": {},
   "outputs": [
    {
     "data": {
      "text/plain": [
       "EmployeeName            0\n",
       "JobTitle                0\n",
       "BasePay               605\n",
       "OvertimePay             0\n",
       "OtherPay                0\n",
       "Benefits            36159\n",
       "TotalPay                0\n",
       "TotalPayBenefits        0\n",
       "Year                    0\n",
       "dtype: int64"
      ]
     },
     "execution_count": 13,
     "metadata": {},
     "output_type": "execute_result"
    }
   ],
   "source": [
    "data.isnull().sum()"
   ]
  },
  {
   "cell_type": "markdown",
   "metadata": {},
   "source": [
    "### Drop id, notes, agency and status columns"
   ]
  },
  {
   "cell_type": "code",
   "execution_count": 10,
   "metadata": {},
   "outputs": [
    {
     "data": {
      "text/plain": [
       "Index(['EmployeeName', 'JobTitle', 'BasePay', 'OvertimePay', 'OtherPay',\n",
       "       'Benefits', 'TotalPay', 'TotalPayBenefits', 'Year'],\n",
       "      dtype='object')"
      ]
     },
     "execution_count": 10,
     "metadata": {},
     "output_type": "execute_result"
    }
   ],
   "source": [
    "# Before executing this cell, execute the cell above\n",
    "# data.drop(['Id', 'Notes', 'Agency', 'Status'], axis=1, inplace=True) \n",
    "data.columns"
   ]
  },
  {
   "cell_type": "markdown",
   "metadata": {},
   "source": [
    "### Describe statistics of our data"
   ]
  },
  {
   "cell_type": "code",
   "execution_count": 12,
   "metadata": {},
   "outputs": [
    {
     "data": {
      "text/html": [
       "<div>\n",
       "<style scoped>\n",
       "    .dataframe tbody tr th:only-of-type {\n",
       "        vertical-align: middle;\n",
       "    }\n",
       "\n",
       "    .dataframe tbody tr th {\n",
       "        vertical-align: top;\n",
       "    }\n",
       "\n",
       "    .dataframe thead th {\n",
       "        text-align: right;\n",
       "    }\n",
       "</style>\n",
       "<table border=\"1\" class=\"dataframe\">\n",
       "  <thead>\n",
       "    <tr style=\"text-align: right;\">\n",
       "      <th></th>\n",
       "      <th>EmployeeName</th>\n",
       "      <th>JobTitle</th>\n",
       "      <th>BasePay</th>\n",
       "      <th>OvertimePay</th>\n",
       "      <th>OtherPay</th>\n",
       "      <th>Benefits</th>\n",
       "      <th>TotalPay</th>\n",
       "      <th>TotalPayBenefits</th>\n",
       "      <th>Year</th>\n",
       "    </tr>\n",
       "  </thead>\n",
       "  <tbody>\n",
       "    <tr>\n",
       "      <th>count</th>\n",
       "      <td>148654</td>\n",
       "      <td>148654</td>\n",
       "      <td>148049.0</td>\n",
       "      <td>148654.0</td>\n",
       "      <td>148654.0</td>\n",
       "      <td>112495.0</td>\n",
       "      <td>148654.000000</td>\n",
       "      <td>148654.000000</td>\n",
       "      <td>148654.000000</td>\n",
       "    </tr>\n",
       "    <tr>\n",
       "      <th>unique</th>\n",
       "      <td>110811</td>\n",
       "      <td>2159</td>\n",
       "      <td>109900.0</td>\n",
       "      <td>66555.0</td>\n",
       "      <td>84968.0</td>\n",
       "      <td>99635.0</td>\n",
       "      <td>NaN</td>\n",
       "      <td>NaN</td>\n",
       "      <td>NaN</td>\n",
       "    </tr>\n",
       "    <tr>\n",
       "      <th>top</th>\n",
       "      <td>Kevin Lee</td>\n",
       "      <td>Transit Operator</td>\n",
       "      <td>0.0</td>\n",
       "      <td>0.0</td>\n",
       "      <td>0.0</td>\n",
       "      <td>0.0</td>\n",
       "      <td>NaN</td>\n",
       "      <td>NaN</td>\n",
       "      <td>NaN</td>\n",
       "    </tr>\n",
       "    <tr>\n",
       "      <th>freq</th>\n",
       "      <td>13</td>\n",
       "      <td>7036</td>\n",
       "      <td>875.0</td>\n",
       "      <td>66103.0</td>\n",
       "      <td>35218.0</td>\n",
       "      <td>1053.0</td>\n",
       "      <td>NaN</td>\n",
       "      <td>NaN</td>\n",
       "      <td>NaN</td>\n",
       "    </tr>\n",
       "    <tr>\n",
       "      <th>mean</th>\n",
       "      <td>NaN</td>\n",
       "      <td>NaN</td>\n",
       "      <td>NaN</td>\n",
       "      <td>NaN</td>\n",
       "      <td>NaN</td>\n",
       "      <td>NaN</td>\n",
       "      <td>74768.321972</td>\n",
       "      <td>93692.554811</td>\n",
       "      <td>2012.522643</td>\n",
       "    </tr>\n",
       "    <tr>\n",
       "      <th>std</th>\n",
       "      <td>NaN</td>\n",
       "      <td>NaN</td>\n",
       "      <td>NaN</td>\n",
       "      <td>NaN</td>\n",
       "      <td>NaN</td>\n",
       "      <td>NaN</td>\n",
       "      <td>50517.005274</td>\n",
       "      <td>62793.533483</td>\n",
       "      <td>1.117538</td>\n",
       "    </tr>\n",
       "    <tr>\n",
       "      <th>min</th>\n",
       "      <td>NaN</td>\n",
       "      <td>NaN</td>\n",
       "      <td>NaN</td>\n",
       "      <td>NaN</td>\n",
       "      <td>NaN</td>\n",
       "      <td>NaN</td>\n",
       "      <td>-618.130000</td>\n",
       "      <td>-618.130000</td>\n",
       "      <td>2011.000000</td>\n",
       "    </tr>\n",
       "    <tr>\n",
       "      <th>25%</th>\n",
       "      <td>NaN</td>\n",
       "      <td>NaN</td>\n",
       "      <td>NaN</td>\n",
       "      <td>NaN</td>\n",
       "      <td>NaN</td>\n",
       "      <td>NaN</td>\n",
       "      <td>36168.995000</td>\n",
       "      <td>44065.650000</td>\n",
       "      <td>2012.000000</td>\n",
       "    </tr>\n",
       "    <tr>\n",
       "      <th>50%</th>\n",
       "      <td>NaN</td>\n",
       "      <td>NaN</td>\n",
       "      <td>NaN</td>\n",
       "      <td>NaN</td>\n",
       "      <td>NaN</td>\n",
       "      <td>NaN</td>\n",
       "      <td>71426.610000</td>\n",
       "      <td>92404.090000</td>\n",
       "      <td>2013.000000</td>\n",
       "    </tr>\n",
       "    <tr>\n",
       "      <th>75%</th>\n",
       "      <td>NaN</td>\n",
       "      <td>NaN</td>\n",
       "      <td>NaN</td>\n",
       "      <td>NaN</td>\n",
       "      <td>NaN</td>\n",
       "      <td>NaN</td>\n",
       "      <td>105839.135000</td>\n",
       "      <td>132876.450000</td>\n",
       "      <td>2014.000000</td>\n",
       "    </tr>\n",
       "    <tr>\n",
       "      <th>max</th>\n",
       "      <td>NaN</td>\n",
       "      <td>NaN</td>\n",
       "      <td>NaN</td>\n",
       "      <td>NaN</td>\n",
       "      <td>NaN</td>\n",
       "      <td>NaN</td>\n",
       "      <td>567595.430000</td>\n",
       "      <td>567595.430000</td>\n",
       "      <td>2014.000000</td>\n",
       "    </tr>\n",
       "  </tbody>\n",
       "</table>\n",
       "</div>"
      ],
      "text/plain": [
       "       EmployeeName          JobTitle   BasePay  OvertimePay  OtherPay  \\\n",
       "count        148654            148654  148049.0     148654.0  148654.0   \n",
       "unique       110811              2159  109900.0      66555.0   84968.0   \n",
       "top       Kevin Lee  Transit Operator       0.0          0.0       0.0   \n",
       "freq             13              7036     875.0      66103.0   35218.0   \n",
       "mean            NaN               NaN       NaN          NaN       NaN   \n",
       "std             NaN               NaN       NaN          NaN       NaN   \n",
       "min             NaN               NaN       NaN          NaN       NaN   \n",
       "25%             NaN               NaN       NaN          NaN       NaN   \n",
       "50%             NaN               NaN       NaN          NaN       NaN   \n",
       "75%             NaN               NaN       NaN          NaN       NaN   \n",
       "max             NaN               NaN       NaN          NaN       NaN   \n",
       "\n",
       "        Benefits       TotalPay  TotalPayBenefits           Year  \n",
       "count   112495.0  148654.000000     148654.000000  148654.000000  \n",
       "unique   99635.0            NaN               NaN            NaN  \n",
       "top          0.0            NaN               NaN            NaN  \n",
       "freq      1053.0            NaN               NaN            NaN  \n",
       "mean         NaN   74768.321972      93692.554811    2012.522643  \n",
       "std          NaN   50517.005274      62793.533483       1.117538  \n",
       "min          NaN    -618.130000       -618.130000    2011.000000  \n",
       "25%          NaN   36168.995000      44065.650000    2012.000000  \n",
       "50%          NaN   71426.610000      92404.090000    2013.000000  \n",
       "75%          NaN  105839.135000     132876.450000    2014.000000  \n",
       "max          NaN  567595.430000     567595.430000    2014.000000  "
      ]
     },
     "execution_count": 12,
     "metadata": {},
     "output_type": "execute_result"
    }
   ],
   "source": [
    "data.describe(include='all')"
   ]
  },
  {
   "cell_type": "markdown",
   "metadata": {},
   "source": [
    "### Identify the top 5 most frequently occurring employee names."
   ]
  },
  {
   "cell_type": "code",
   "execution_count": null,
   "metadata": {},
   "outputs": [
    {
     "data": {
      "text/plain": [
       "EmployeeName\n",
       "Kevin Lee       13\n",
       "William Wong    11\n",
       "Richard Lee     11\n",
       "Steven Lee      11\n",
       "John Chan        9\n",
       "Name: count, dtype: int64"
      ]
     },
     "execution_count": 16,
     "metadata": {},
     "output_type": "execute_result"
    }
   ],
   "source": [
    "data['EmployeeName'].value_counts().head() # By default, the first 5 rows are displayed"
   ]
  },
  {
   "cell_type": "markdown",
   "metadata": {},
   "source": [
    "### Find the number of unique Job titles"
   ]
  },
  {
   "cell_type": "code",
   "execution_count": 18,
   "metadata": {},
   "outputs": [
    {
     "data": {
      "text/plain": [
       "2159"
      ]
     },
     "execution_count": 18,
     "metadata": {},
     "output_type": "execute_result"
    }
   ],
   "source": [
    "data['JobTitle'].nunique()"
   ]
  },
  {
   "cell_type": "markdown",
   "metadata": {},
   "source": [
    "### Total number of job titles contain Captain"
   ]
  },
  {
   "cell_type": "code",
   "execution_count": 25,
   "metadata": {},
   "outputs": [
    {
     "data": {
      "text/plain": [
       "np.int64(552)"
      ]
     },
     "execution_count": 25,
     "metadata": {},
     "output_type": "execute_result"
    }
   ],
   "source": [
    "data['JobTitle'].str.contains('CAPTAIN', case=False).sum()"
   ]
  },
  {
   "cell_type": "markdown",
   "metadata": {},
   "source": [
    "### Display all the employee names in the Fire department"
   ]
  },
  {
   "cell_type": "code",
   "execution_count": 32,
   "metadata": {},
   "outputs": [
    {
     "data": {
      "text/html": [
       "<div>\n",
       "<style scoped>\n",
       "    .dataframe tbody tr th:only-of-type {\n",
       "        vertical-align: middle;\n",
       "    }\n",
       "\n",
       "    .dataframe tbody tr th {\n",
       "        vertical-align: top;\n",
       "    }\n",
       "\n",
       "    .dataframe thead th {\n",
       "        text-align: right;\n",
       "    }\n",
       "</style>\n",
       "<table border=\"1\" class=\"dataframe\">\n",
       "  <thead>\n",
       "    <tr style=\"text-align: right;\">\n",
       "      <th></th>\n",
       "      <th>EmployeeName</th>\n",
       "      <th>JobTitle</th>\n",
       "    </tr>\n",
       "  </thead>\n",
       "  <tbody>\n",
       "    <tr>\n",
       "      <th>4</th>\n",
       "      <td>PATRICK GARDNER</td>\n",
       "      <td>DEPUTY CHIEF OF DEPARTMENT,(FIRE DEPARTMENT)</td>\n",
       "    </tr>\n",
       "    <tr>\n",
       "      <th>6</th>\n",
       "      <td>ALSON LEE</td>\n",
       "      <td>BATTALION CHIEF, (FIRE DEPARTMENT)</td>\n",
       "    </tr>\n",
       "    <tr>\n",
       "      <th>8</th>\n",
       "      <td>MICHAEL MORRIS</td>\n",
       "      <td>BATTALION CHIEF, (FIRE DEPARTMENT)</td>\n",
       "    </tr>\n",
       "    <tr>\n",
       "      <th>9</th>\n",
       "      <td>JOANNE HAYES-WHITE</td>\n",
       "      <td>CHIEF OF DEPARTMENT, (FIRE DEPARTMENT)</td>\n",
       "    </tr>\n",
       "    <tr>\n",
       "      <th>10</th>\n",
       "      <td>ARTHUR KENNEY</td>\n",
       "      <td>ASSISTANT CHIEF OF DEPARTMENT, (FIRE DEPARTMENT)</td>\n",
       "    </tr>\n",
       "    <tr>\n",
       "      <th>...</th>\n",
       "      <td>...</td>\n",
       "      <td>...</td>\n",
       "    </tr>\n",
       "    <tr>\n",
       "      <th>145956</th>\n",
       "      <td>Kenneth C Farris</td>\n",
       "      <td>Firefighter</td>\n",
       "    </tr>\n",
       "    <tr>\n",
       "      <th>147556</th>\n",
       "      <td>Edward A Dunn</td>\n",
       "      <td>Firefighter</td>\n",
       "    </tr>\n",
       "    <tr>\n",
       "      <th>148021</th>\n",
       "      <td>Kari A Johnson</td>\n",
       "      <td>Firefighter</td>\n",
       "    </tr>\n",
       "    <tr>\n",
       "      <th>148209</th>\n",
       "      <td>Sheryl K Lee</td>\n",
       "      <td>Firefighter</td>\n",
       "    </tr>\n",
       "    <tr>\n",
       "      <th>148554</th>\n",
       "      <td>Lawrence F Gatt</td>\n",
       "      <td>Fire Alarm Dispatcher</td>\n",
       "    </tr>\n",
       "  </tbody>\n",
       "</table>\n",
       "<p>5879 rows × 2 columns</p>\n",
       "</div>"
      ],
      "text/plain": [
       "              EmployeeName                                          JobTitle\n",
       "4          PATRICK GARDNER      DEPUTY CHIEF OF DEPARTMENT,(FIRE DEPARTMENT)\n",
       "6                ALSON LEE                BATTALION CHIEF, (FIRE DEPARTMENT)\n",
       "8           MICHAEL MORRIS                BATTALION CHIEF, (FIRE DEPARTMENT)\n",
       "9       JOANNE HAYES-WHITE            CHIEF OF DEPARTMENT, (FIRE DEPARTMENT)\n",
       "10           ARTHUR KENNEY  ASSISTANT CHIEF OF DEPARTMENT, (FIRE DEPARTMENT)\n",
       "...                    ...                                               ...\n",
       "145956    Kenneth C Farris                                       Firefighter\n",
       "147556       Edward A Dunn                                       Firefighter\n",
       "148021      Kari A Johnson                                       Firefighter\n",
       "148209        Sheryl K Lee                                       Firefighter\n",
       "148554     Lawrence F Gatt                             Fire Alarm Dispatcher\n",
       "\n",
       "[5879 rows x 2 columns]"
      ]
     },
     "execution_count": 32,
     "metadata": {},
     "output_type": "execute_result"
    }
   ],
   "source": [
    "# data[data['JobTitle'].str.contains('FIRE', case=False)]['EmployeeName'] # Displaying only the EmployeeName column\n",
    "data[data['JobTitle'].str.contains('FIRE', case=False)][['EmployeeName', 'JobTitle']] # Displaying both EmployeeName and JobTitle columns"
   ]
  },
  {
   "cell_type": "markdown",
   "metadata": {},
   "source": [
    "### Replace 'Not Provided' in EmployeeName Column to NaN"
   ]
  },
  {
   "cell_type": "code",
   "execution_count": 49,
   "metadata": {},
   "outputs": [
    {
     "data": {
      "text/plain": [
       "0            NATHANIEL FORD\n",
       "1              GARY JIMENEZ\n",
       "2            ALBERT PARDINI\n",
       "3         CHRISTOPHER CHONG\n",
       "4           PATRICK GARDNER\n",
       "                ...        \n",
       "148649        Roy I Tillery\n",
       "148650                  NaN\n",
       "148651                  NaN\n",
       "148652                  NaN\n",
       "148653            Joe Lopez\n",
       "Name: EmployeeName, Length: 148654, dtype: object"
      ]
     },
     "execution_count": 49,
     "metadata": {},
     "output_type": "execute_result"
    }
   ],
   "source": [
    "import numpy as np\n",
    "data['EmployeeName'].replace('Not provided', np.nan, inplace=True)\n",
    "data['EmployeeName']"
   ]
  },
  {
   "cell_type": "markdown",
   "metadata": {},
   "source": [
    "### Find job title of ALBERT PARDINI"
   ]
  },
  {
   "cell_type": "code",
   "execution_count": 66,
   "metadata": {},
   "outputs": [
    {
     "data": {
      "text/plain": [
       "2    CAPTAIN III (POLICE DEPARTMENT)\n",
       "Name: JobTitle, dtype: object"
      ]
     },
     "execution_count": 66,
     "metadata": {},
     "output_type": "execute_result"
    }
   ],
   "source": [
    "data[data['EmployeeName'] == 'ALBERT PARDINI']['JobTitle']"
   ]
  },
  {
   "cell_type": "markdown",
   "metadata": {},
   "source": [
    "### Find average TotalPay of all employee Per Year"
   ]
  },
  {
   "cell_type": "code",
   "execution_count": 85,
   "metadata": {},
   "outputs": [
    {
     "data": {
      "text/plain": [
       "Year\n",
       "2011    71744.103871\n",
       "2012    74113.262265\n",
       "2013    77611.443142\n",
       "2014    75463.918140\n",
       "Name: TotalPay, dtype: float64"
      ]
     },
     "execution_count": 85,
     "metadata": {},
     "output_type": "execute_result"
    }
   ],
   "source": [
    "data.groupby('Year')['TotalPay'].mean()"
   ]
  },
  {
   "cell_type": "markdown",
   "metadata": {},
   "source": [
    "### Find average TotalPay of all employee Per JobTitle"
   ]
  },
  {
   "cell_type": "code",
   "execution_count": 86,
   "metadata": {},
   "outputs": [
    {
     "data": {
      "text/plain": [
       "JobTitle\n",
       "ACCOUNT CLERK                                     44035.664337\n",
       "ACCOUNTANT                                        47429.268000\n",
       "ACCOUNTANT INTERN                                 29031.742917\n",
       "ACPO,JuvP, Juv Prob (SFERS)                       62290.780000\n",
       "ACUPUNCTURIST                                     67594.400000\n",
       "                                                      ...     \n",
       "X-RAY LABORATORY AIDE                             52705.880385\n",
       "X-Ray Laboratory Aide                             50823.942700\n",
       "YOUTH COMMISSION ADVISOR, BOARD OF SUPERVISORS    53632.870000\n",
       "Youth Comm Advisor                                41414.307500\n",
       "ZOO CURATOR                                       66686.560000\n",
       "Name: TotalPay, Length: 2159, dtype: float64"
      ]
     },
     "execution_count": 86,
     "metadata": {},
     "output_type": "execute_result"
    }
   ],
   "source": [
    "data.groupby('JobTitle')['TotalPay'].mean()"
   ]
  },
  {
   "cell_type": "markdown",
   "metadata": {},
   "source": [
    "### Find average TotalPay of Employee having JobTitle as 'ACCOUNTANT'"
   ]
  },
  {
   "cell_type": "code",
   "execution_count": 88,
   "metadata": {},
   "outputs": [
    {
     "data": {
      "text/plain": [
       "np.float64(47429.268)"
      ]
     },
     "execution_count": 88,
     "metadata": {},
     "output_type": "execute_result"
    }
   ],
   "source": [
    "data[data['JobTitle'] == 'ACCOUNTANT']['TotalPay'].mean()"
   ]
  },
  {
   "cell_type": "markdown",
   "metadata": {},
   "source": [
    "### Find top 5 most common jobs"
   ]
  },
  {
   "cell_type": "code",
   "execution_count": 90,
   "metadata": {},
   "outputs": [
    {
     "data": {
      "text/plain": [
       "JobTitle\n",
       "Transit Operator                7036\n",
       "Special Nurse                   4389\n",
       "Registered Nurse                3736\n",
       "Public Svc Aide-Public Works    2518\n",
       "Police Officer 3                2421\n",
       "Name: count, dtype: int64"
      ]
     },
     "execution_count": 90,
     "metadata": {},
     "output_type": "execute_result"
    }
   ],
   "source": [
    "data['JobTitle'].value_counts().head(5)"
   ]
  },
  {
   "cell_type": "code",
   "execution_count": null,
   "metadata": {},
   "outputs": [],
   "source": []
  }
 ],
 "metadata": {
  "kernelspec": {
   "display_name": ".venv",
   "language": "python",
   "name": "python3"
  },
  "language_info": {
   "codemirror_mode": {
    "name": "ipython",
    "version": 3
   },
   "file_extension": ".py",
   "mimetype": "text/x-python",
   "name": "python",
   "nbconvert_exporter": "python",
   "pygments_lexer": "ipython3",
   "version": "3.12.6"
  }
 },
 "nbformat": 4,
 "nbformat_minor": 2
}
